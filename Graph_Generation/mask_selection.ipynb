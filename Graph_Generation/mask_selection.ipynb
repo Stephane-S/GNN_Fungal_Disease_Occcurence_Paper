{
 "cells": [
  {
   "cell_type": "code",
   "execution_count": 81,
   "metadata": {},
   "outputs": [],
   "source": [
    "import pandas as pd\n",
    "import numpy as np\n",
    "from tqdm import tqdm\n",
    "\n",
    "from sklearn import preprocessing\n",
    "import random\n",
    "\n",
    "import itertools\n",
    "import os\n",
    "import re\n",
    "import math\n",
    "\n",
    "import torch\n",
    "from torch_geometric.data import HeteroData, Data, Batch\n",
    "from torch_geometric.loader import DataLoader\n",
    "from torch_geometric.utils import to_networkx, subgraph, degree, from_networkx\n",
    "from torch.utils.data import Dataset, dataloader\n",
    "import torch_geometric.transforms as T\n",
    "\n",
    "from torch_geometric.nn import GCNConv, summary, GraphSAGE\n",
    "from torch.nn import Sequential, Linear, ReLU, Dropout\n",
    "from sklearn.model_selection import ParameterGrid\n",
    "from torch_geometric.nn import global_add_pool, global_mean_pool\n",
    "from sklearn.metrics import accuracy_score, confusion_matrix, roc_auc_score, f1_score\n",
    "from sklearn.model_selection import train_test_split\n",
    "import torch.nn.functional as F\n",
    "from sklearn.utils import class_weight\n",
    "\n",
    "import community.community_louvain as community_louvain  # python-louvain\n",
    "\n",
    "# visual\n",
    "import networkx as nx\n",
    "import matplotlib.pyplot as plt\n",
    "import seaborn as sns\n",
    "from tabulate import tabulate"
   ]
  },
  {
   "cell_type": "code",
   "execution_count": 82,
   "metadata": {},
   "outputs": [
    {
     "name": "stdout",
     "output_type": "stream",
     "text": [
      "cuda\n"
     ]
    }
   ],
   "source": [
    "if torch.cuda.is_available():\n",
    "    device = torch.device('cuda')\n",
    "elif hasattr(torch.backends, 'mps') and torch.backends.mps.is_available():\n",
    "    device = torch.device('mps')\n",
    "else:\n",
    "    device = torch.device('cpu')\n",
    "\n",
    "#device = torch.device('cpu')\n",
    "print(device)"
   ]
  },
  {
   "cell_type": "code",
   "execution_count": 83,
   "metadata": {},
   "outputs": [
    {
     "name": "stdout",
     "output_type": "stream",
     "text": [
      "d:\\Work\\UQAM\\Doctorat\\Projets\\oignion_GNN\\cultures_GNN\\carotte\\Automne_2023\\Script\\graph_masking\n"
     ]
    }
   ],
   "source": [
    "import os\n",
    "cwd = os.getcwd()\n",
    "print(cwd)"
   ]
  },
  {
   "cell_type": "code",
   "execution_count": 84,
   "metadata": {},
   "outputs": [],
   "source": [
    "carrot_df = pd.read_csv('../../Output/carrot_no_sensitive_data.csv', index_col=0)\n",
    "meteo_df = pd.read_csv('../../Output/combined_daily_meteo.csv', index_col=0)\n",
    "plant_distance_filepath = \"../../Output/field_distance.txt\""
   ]
  },
  {
   "cell_type": "code",
   "execution_count": 85,
   "metadata": {},
   "outputs": [],
   "source": [
    "with open(plant_distance_filepath) as file:\n",
    "    distance_txt_file = [line.rstrip() for line in file]"
   ]
  },
  {
   "cell_type": "code",
   "execution_count": 86,
   "metadata": {},
   "outputs": [],
   "source": [
    "carrot_df.rename(columns={'SampleDate':'Date'}, inplace=True)"
   ]
  },
  {
   "cell_type": "code",
   "execution_count": 87,
   "metadata": {},
   "outputs": [
    {
     "data": {
      "text/plain": [
       "0    493\n",
       "1    257\n",
       "2     10\n",
       "3      9\n",
       "4      1\n",
       "Name: cote_c_carotae, dtype: int64"
      ]
     },
     "execution_count": 87,
     "metadata": {},
     "output_type": "execute_result"
    }
   ],
   "source": [
    "carrot_df['cote_c_carotae'].value_counts()"
   ]
  },
  {
   "cell_type": "markdown",
   "metadata": {},
   "source": [
    "On retire la ferme 0 car elle debalance le jeu de donnees "
   ]
  },
  {
   "cell_type": "code",
   "execution_count": 88,
   "metadata": {},
   "outputs": [],
   "source": [
    "carrot_df = carrot_df.drop(carrot_df[carrot_df['FarmID'] == 0].index)"
   ]
  },
  {
   "cell_type": "code",
   "execution_count": 89,
   "metadata": {},
   "outputs": [
    {
     "data": {
      "text/plain": [
       "0    276\n",
       "1    218\n",
       "2      4\n",
       "3      1\n",
       "Name: cote_c_carotae, dtype: int64"
      ]
     },
     "execution_count": 89,
     "metadata": {},
     "output_type": "execute_result"
    }
   ],
   "source": [
    "carrot_df['cote_c_carotae'].value_counts()"
   ]
  },
  {
   "cell_type": "code",
   "execution_count": 90,
   "metadata": {},
   "outputs": [
    {
     "data": {
      "text/plain": [
       "0    276\n",
       "1    223\n",
       "Name: cote_c_carotae, dtype: int64"
      ]
     },
     "execution_count": 90,
     "metadata": {},
     "output_type": "execute_result"
    }
   ],
   "source": [
    "carrot_df.loc[carrot_df['cote_c_carotae'] >= 1, 'cote_c_carotae'] = 1\n",
    "carrot_df['cote_c_carotae'].value_counts()"
   ]
  },
  {
   "cell_type": "code",
   "execution_count": 91,
   "metadata": {},
   "outputs": [
    {
     "name": "stdout",
     "output_type": "stream",
     "text": [
      "[202 204 207 209 214 216 222 225 237 243 244 251 253 259 260 265 266 271\n",
      " 272]\n"
     ]
    },
    {
     "data": {
      "text/html": [
       "<div>\n",
       "<style scoped>\n",
       "    .dataframe tbody tr th:only-of-type {\n",
       "        vertical-align: middle;\n",
       "    }\n",
       "\n",
       "    .dataframe tbody tr th {\n",
       "        vertical-align: top;\n",
       "    }\n",
       "\n",
       "    .dataframe thead th {\n",
       "        text-align: right;\n",
       "    }\n",
       "</style>\n",
       "<table border=\"1\" class=\"dataframe\">\n",
       "  <thead>\n",
       "    <tr style=\"text-align: right;\">\n",
       "      <th></th>\n",
       "      <th>FarmID</th>\n",
       "      <th>Date</th>\n",
       "      <th>Day_avg_Temp_C</th>\n",
       "      <th>Day_max_Temp_C</th>\n",
       "      <th>Day_min_Temp_C</th>\n",
       "      <th>Day_less_5_Temp_C</th>\n",
       "      <th>Day_less_13_Temp_C</th>\n",
       "      <th>Day_more_30_Temp_C</th>\n",
       "      <th>Day_more_35_Temp_C</th>\n",
       "      <th>Day_15_25_Temp_C</th>\n",
       "      <th>...</th>\n",
       "      <th>Rolling_Quot_RH_max_14D</th>\n",
       "      <th>Rolling_Quot_DewPoint_sum_14D</th>\n",
       "      <th>Rolling_Quot_SolarRadiation_sum_14D</th>\n",
       "      <th>Rolling_Quot_SolarRadiation_mean_14D</th>\n",
       "      <th>Rolling_Quot_Rain_sum_14D</th>\n",
       "      <th>Rolling_Quot_Rain_mean_14D</th>\n",
       "      <th>Rolling_Quot_more_0_Rain_14D</th>\n",
       "      <th>Rolling_Quot_WindSpeed_mean_14D</th>\n",
       "      <th>Rolling_Quot_GustSpeed_mean_14D</th>\n",
       "      <th>Rolling_DegresJours_sum_14D</th>\n",
       "    </tr>\n",
       "  </thead>\n",
       "  <tbody>\n",
       "    <tr>\n",
       "      <th>37</th>\n",
       "      <td>0</td>\n",
       "      <td>202</td>\n",
       "      <td>19.633077</td>\n",
       "      <td>23.93</td>\n",
       "      <td>15.27</td>\n",
       "      <td>0</td>\n",
       "      <td>0</td>\n",
       "      <td>0</td>\n",
       "      <td>0</td>\n",
       "      <td>13</td>\n",
       "      <td>...</td>\n",
       "      <td>99.8</td>\n",
       "      <td>241.599583</td>\n",
       "      <td>2473.500000</td>\n",
       "      <td>176.678571</td>\n",
       "      <td>47.2</td>\n",
       "      <td>3.371429</td>\n",
       "      <td>2.071429</td>\n",
       "      <td>0.449405</td>\n",
       "      <td>2.423810</td>\n",
       "      <td>232.500</td>\n",
       "    </tr>\n",
       "    <tr>\n",
       "      <th>39</th>\n",
       "      <td>0</td>\n",
       "      <td>204</td>\n",
       "      <td>22.406923</td>\n",
       "      <td>26.11</td>\n",
       "      <td>16.18</td>\n",
       "      <td>0</td>\n",
       "      <td>0</td>\n",
       "      <td>0</td>\n",
       "      <td>0</td>\n",
       "      <td>9</td>\n",
       "      <td>...</td>\n",
       "      <td>99.8</td>\n",
       "      <td>239.610833</td>\n",
       "      <td>2842.041667</td>\n",
       "      <td>203.002976</td>\n",
       "      <td>28.2</td>\n",
       "      <td>2.014286</td>\n",
       "      <td>1.285714</td>\n",
       "      <td>0.552083</td>\n",
       "      <td>2.609821</td>\n",
       "      <td>239.375</td>\n",
       "    </tr>\n",
       "    <tr>\n",
       "      <th>42</th>\n",
       "      <td>0</td>\n",
       "      <td>207</td>\n",
       "      <td>24.604615</td>\n",
       "      <td>28.10</td>\n",
       "      <td>16.75</td>\n",
       "      <td>0</td>\n",
       "      <td>0</td>\n",
       "      <td>0</td>\n",
       "      <td>0</td>\n",
       "      <td>6</td>\n",
       "      <td>...</td>\n",
       "      <td>99.8</td>\n",
       "      <td>243.713333</td>\n",
       "      <td>2762.166667</td>\n",
       "      <td>197.297619</td>\n",
       "      <td>39.6</td>\n",
       "      <td>2.828571</td>\n",
       "      <td>1.642857</td>\n",
       "      <td>0.703869</td>\n",
       "      <td>3.064286</td>\n",
       "      <td>244.495</td>\n",
       "    </tr>\n",
       "    <tr>\n",
       "      <th>44</th>\n",
       "      <td>0</td>\n",
       "      <td>209</td>\n",
       "      <td>21.417692</td>\n",
       "      <td>25.26</td>\n",
       "      <td>15.08</td>\n",
       "      <td>0</td>\n",
       "      <td>0</td>\n",
       "      <td>0</td>\n",
       "      <td>0</td>\n",
       "      <td>12</td>\n",
       "      <td>...</td>\n",
       "      <td>99.8</td>\n",
       "      <td>234.027917</td>\n",
       "      <td>2749.791667</td>\n",
       "      <td>196.413690</td>\n",
       "      <td>39.4</td>\n",
       "      <td>2.814286</td>\n",
       "      <td>1.642857</td>\n",
       "      <td>0.574405</td>\n",
       "      <td>2.685714</td>\n",
       "      <td>235.605</td>\n",
       "    </tr>\n",
       "    <tr>\n",
       "      <th>49</th>\n",
       "      <td>0</td>\n",
       "      <td>214</td>\n",
       "      <td>20.373077</td>\n",
       "      <td>23.62</td>\n",
       "      <td>14.96</td>\n",
       "      <td>0</td>\n",
       "      <td>0</td>\n",
       "      <td>0</td>\n",
       "      <td>0</td>\n",
       "      <td>12</td>\n",
       "      <td>...</td>\n",
       "      <td>99.8</td>\n",
       "      <td>206.191667</td>\n",
       "      <td>2762.833333</td>\n",
       "      <td>197.345238</td>\n",
       "      <td>45.2</td>\n",
       "      <td>3.228571</td>\n",
       "      <td>1.857143</td>\n",
       "      <td>0.741071</td>\n",
       "      <td>3.085119</td>\n",
       "      <td>212.380</td>\n",
       "    </tr>\n",
       "  </tbody>\n",
       "</table>\n",
       "<p>5 rows × 131 columns</p>\n",
       "</div>"
      ],
      "text/plain": [
       "    FarmID  Date  Day_avg_Temp_C  Day_max_Temp_C  Day_min_Temp_C  \\\n",
       "37       0   202       19.633077           23.93           15.27   \n",
       "39       0   204       22.406923           26.11           16.18   \n",
       "42       0   207       24.604615           28.10           16.75   \n",
       "44       0   209       21.417692           25.26           15.08   \n",
       "49       0   214       20.373077           23.62           14.96   \n",
       "\n",
       "    Day_less_5_Temp_C  Day_less_13_Temp_C  Day_more_30_Temp_C  \\\n",
       "37                  0                   0                   0   \n",
       "39                  0                   0                   0   \n",
       "42                  0                   0                   0   \n",
       "44                  0                   0                   0   \n",
       "49                  0                   0                   0   \n",
       "\n",
       "    Day_more_35_Temp_C  Day_15_25_Temp_C  ...  Rolling_Quot_RH_max_14D  \\\n",
       "37                   0                13  ...                     99.8   \n",
       "39                   0                 9  ...                     99.8   \n",
       "42                   0                 6  ...                     99.8   \n",
       "44                   0                12  ...                     99.8   \n",
       "49                   0                12  ...                     99.8   \n",
       "\n",
       "    Rolling_Quot_DewPoint_sum_14D  Rolling_Quot_SolarRadiation_sum_14D  \\\n",
       "37                     241.599583                          2473.500000   \n",
       "39                     239.610833                          2842.041667   \n",
       "42                     243.713333                          2762.166667   \n",
       "44                     234.027917                          2749.791667   \n",
       "49                     206.191667                          2762.833333   \n",
       "\n",
       "    Rolling_Quot_SolarRadiation_mean_14D  Rolling_Quot_Rain_sum_14D  \\\n",
       "37                            176.678571                       47.2   \n",
       "39                            203.002976                       28.2   \n",
       "42                            197.297619                       39.6   \n",
       "44                            196.413690                       39.4   \n",
       "49                            197.345238                       45.2   \n",
       "\n",
       "    Rolling_Quot_Rain_mean_14D  Rolling_Quot_more_0_Rain_14D  \\\n",
       "37                    3.371429                      2.071429   \n",
       "39                    2.014286                      1.285714   \n",
       "42                    2.828571                      1.642857   \n",
       "44                    2.814286                      1.642857   \n",
       "49                    3.228571                      1.857143   \n",
       "\n",
       "    Rolling_Quot_WindSpeed_mean_14D  Rolling_Quot_GustSpeed_mean_14D  \\\n",
       "37                         0.449405                         2.423810   \n",
       "39                         0.552083                         2.609821   \n",
       "42                         0.703869                         3.064286   \n",
       "44                         0.574405                         2.685714   \n",
       "49                         0.741071                         3.085119   \n",
       "\n",
       "    Rolling_DegresJours_sum_14D  \n",
       "37                      232.500  \n",
       "39                      239.375  \n",
       "42                      244.495  \n",
       "44                      235.605  \n",
       "49                      212.380  \n",
       "\n",
       "[5 rows x 131 columns]"
      ]
     },
     "execution_count": 91,
     "metadata": {},
     "output_type": "execute_result"
    }
   ],
   "source": [
    "# we remove every date in the meteo dataframe where no sample have been taken\n",
    "unique_sample_date = carrot_df['Date'].unique()\n",
    "print(unique_sample_date)\n",
    "unique_sample_date = meteo_df[meteo_df['Date'].isin(unique_sample_date)]\n",
    "\n",
    "unique_sample_date.head()"
   ]
  },
  {
   "cell_type": "code",
   "execution_count": 92,
   "metadata": {},
   "outputs": [
    {
     "data": {
      "text/html": [
       "<div>\n",
       "<style scoped>\n",
       "    .dataframe tbody tr th:only-of-type {\n",
       "        vertical-align: middle;\n",
       "    }\n",
       "\n",
       "    .dataframe tbody tr th {\n",
       "        vertical-align: top;\n",
       "    }\n",
       "\n",
       "    .dataframe thead th {\n",
       "        text-align: right;\n",
       "    }\n",
       "</style>\n",
       "<table border=\"1\" class=\"dataframe\">\n",
       "  <thead>\n",
       "    <tr style=\"text-align: right;\">\n",
       "      <th></th>\n",
       "      <th>FarmID</th>\n",
       "      <th>GreenLeavesNum_carrots</th>\n",
       "      <th>Plant_ID</th>\n",
       "      <th>cote_c_carotae</th>\n",
       "      <th>Date</th>\n",
       "      <th>incidence_a_dauci</th>\n",
       "      <th>incidence_s_sclerotiorum</th>\n",
       "      <th>carrot_stage</th>\n",
       "    </tr>\n",
       "  </thead>\n",
       "  <tbody>\n",
       "    <tr>\n",
       "      <th>520</th>\n",
       "      <td>2</td>\n",
       "      <td>4</td>\n",
       "      <td>1</td>\n",
       "      <td>0</td>\n",
       "      <td>202</td>\n",
       "      <td>0</td>\n",
       "      <td>0</td>\n",
       "      <td>0</td>\n",
       "    </tr>\n",
       "    <tr>\n",
       "      <th>521</th>\n",
       "      <td>2</td>\n",
       "      <td>4</td>\n",
       "      <td>2</td>\n",
       "      <td>0</td>\n",
       "      <td>202</td>\n",
       "      <td>0</td>\n",
       "      <td>0</td>\n",
       "      <td>0</td>\n",
       "    </tr>\n",
       "    <tr>\n",
       "      <th>522</th>\n",
       "      <td>2</td>\n",
       "      <td>4</td>\n",
       "      <td>3</td>\n",
       "      <td>0</td>\n",
       "      <td>202</td>\n",
       "      <td>0</td>\n",
       "      <td>0</td>\n",
       "      <td>0</td>\n",
       "    </tr>\n",
       "    <tr>\n",
       "      <th>523</th>\n",
       "      <td>2</td>\n",
       "      <td>4</td>\n",
       "      <td>4</td>\n",
       "      <td>0</td>\n",
       "      <td>202</td>\n",
       "      <td>0</td>\n",
       "      <td>0</td>\n",
       "      <td>0</td>\n",
       "    </tr>\n",
       "    <tr>\n",
       "      <th>524</th>\n",
       "      <td>2</td>\n",
       "      <td>4</td>\n",
       "      <td>5</td>\n",
       "      <td>0</td>\n",
       "      <td>202</td>\n",
       "      <td>0</td>\n",
       "      <td>0</td>\n",
       "      <td>0</td>\n",
       "    </tr>\n",
       "    <tr>\n",
       "      <th>...</th>\n",
       "      <td>...</td>\n",
       "      <td>...</td>\n",
       "      <td>...</td>\n",
       "      <td>...</td>\n",
       "      <td>...</td>\n",
       "      <td>...</td>\n",
       "      <td>...</td>\n",
       "      <td>...</td>\n",
       "    </tr>\n",
       "    <tr>\n",
       "      <th>515</th>\n",
       "      <td>1</td>\n",
       "      <td>6</td>\n",
       "      <td>21</td>\n",
       "      <td>1</td>\n",
       "      <td>272</td>\n",
       "      <td>0</td>\n",
       "      <td>0</td>\n",
       "      <td>2</td>\n",
       "    </tr>\n",
       "    <tr>\n",
       "      <th>516</th>\n",
       "      <td>1</td>\n",
       "      <td>6</td>\n",
       "      <td>22</td>\n",
       "      <td>1</td>\n",
       "      <td>272</td>\n",
       "      <td>0</td>\n",
       "      <td>0</td>\n",
       "      <td>2</td>\n",
       "    </tr>\n",
       "    <tr>\n",
       "      <th>517</th>\n",
       "      <td>1</td>\n",
       "      <td>6</td>\n",
       "      <td>23</td>\n",
       "      <td>1</td>\n",
       "      <td>272</td>\n",
       "      <td>0</td>\n",
       "      <td>0</td>\n",
       "      <td>2</td>\n",
       "    </tr>\n",
       "    <tr>\n",
       "      <th>518</th>\n",
       "      <td>1</td>\n",
       "      <td>6</td>\n",
       "      <td>24</td>\n",
       "      <td>0</td>\n",
       "      <td>272</td>\n",
       "      <td>0</td>\n",
       "      <td>0</td>\n",
       "      <td>2</td>\n",
       "    </tr>\n",
       "    <tr>\n",
       "      <th>519</th>\n",
       "      <td>1</td>\n",
       "      <td>6</td>\n",
       "      <td>25</td>\n",
       "      <td>1</td>\n",
       "      <td>272</td>\n",
       "      <td>0</td>\n",
       "      <td>0</td>\n",
       "      <td>2</td>\n",
       "    </tr>\n",
       "  </tbody>\n",
       "</table>\n",
       "<p>499 rows × 8 columns</p>\n",
       "</div>"
      ],
      "text/plain": [
       "     FarmID  GreenLeavesNum_carrots  Plant_ID  cote_c_carotae  Date  \\\n",
       "520       2                       4         1               0   202   \n",
       "521       2                       4         2               0   202   \n",
       "522       2                       4         3               0   202   \n",
       "523       2                       4         4               0   202   \n",
       "524       2                       4         5               0   202   \n",
       "..      ...                     ...       ...             ...   ...   \n",
       "515       1                       6        21               1   272   \n",
       "516       1                       6        22               1   272   \n",
       "517       1                       6        23               1   272   \n",
       "518       1                       6        24               0   272   \n",
       "519       1                       6        25               1   272   \n",
       "\n",
       "     incidence_a_dauci  incidence_s_sclerotiorum  carrot_stage  \n",
       "520                  0                         0             0  \n",
       "521                  0                         0             0  \n",
       "522                  0                         0             0  \n",
       "523                  0                         0             0  \n",
       "524                  0                         0             0  \n",
       "..                 ...                       ...           ...  \n",
       "515                  0                         0             2  \n",
       "516                  0                         0             2  \n",
       "517                  0                         0             2  \n",
       "518                  0                         0             2  \n",
       "519                  0                         0             2  \n",
       "\n",
       "[499 rows x 8 columns]"
      ]
     },
     "execution_count": 92,
     "metadata": {},
     "output_type": "execute_result"
    }
   ],
   "source": [
    "carrot_df"
   ]
  },
  {
   "cell_type": "code",
   "execution_count": 93,
   "metadata": {},
   "outputs": [],
   "source": [
    "# Initialize a dictionary to store the progression of sickness ratings\n",
    "sickness_progression = {}\n",
    "\n",
    "# Iterate through the dataset\n",
    "for index, row in carrot_df.iterrows():\n",
    "    farm_id = row['FarmID']\n",
    "    plant_id = row['Plant_ID']\n",
    "    sickness_rating = row['cote_c_carotae']\n",
    "    \n",
    "    # Create a unique key using farm id and plant id\n",
    "    key = (int(farm_id), int(plant_id))\n",
    "    \n",
    "    # If the key is not already in the dictionary, create a new entry\n",
    "    if key not in sickness_progression:\n",
    "        sickness_progression[key] = []\n",
    "    \n",
    "    # Add date and sickness rating to the respective lists\n",
    "    sickness_progression[key].append(int(sickness_rating))"
   ]
  },
  {
   "cell_type": "code",
   "execution_count": 94,
   "metadata": {},
   "outputs": [
    {
     "name": "stdout",
     "output_type": "stream",
     "text": [
      "(2, 1) [0, 0, 1, 1, 0, 0, 0, 0, 0, 0]\n",
      "(2, 2) [0, 0, 1, 0, 0, 1, 0, 0, 0, 1]\n",
      "(2, 3) [0, 0, 1, 1, 0, 1, 0, 0, 0, 0]\n",
      "(2, 4) [0, 0, 1, 1, 0, 1, 1, 0, 0, 0]\n",
      "(2, 5) [0, 0, 1, 1, 0, 0, 1, 0, 0, 0]\n",
      "(2, 6) [0, 0, 0, 1, 0, 1, 1, 1, 1, 0]\n",
      "(2, 7) [0, 0, 1, 1, 0, 1, 1, 0, 0, 0]\n",
      "(2, 8) [0, 0, 1, 1, 1, 1, 1, 0, 0, 0]\n",
      "(2, 9) [1, 0, 0, 1, 0, 0, 0, 0, 0, 0]\n",
      "(2, 10) [0, 0, 1, 0, 0, 0, 1, 0, 0, 0]\n",
      "(2, 11) [0, 0, 1, 1, 0, 1, 1, 0, 0, 0]\n",
      "(2, 12) [0, 0, 1, 1, 0, 1, 1, 0, 0, 0]\n",
      "(2, 13) [0, 0, 1, 1, 0, 1, 0, 0, 0, 0]\n",
      "(2, 14) [0, 0, 1, 1, 1, 1, 1, 0, 1, 0]\n",
      "(2, 15) [0, 0, 1, 1, 0, 0, 1, 0, 0, 0]\n",
      "(2, 16) [0, 1, 1, 1, 0, 1, 0, 1, 1, 0]\n",
      "(2, 17) [0, 0, 1, 1, 1, 0, 1, 0, 0, 0]\n",
      "(2, 18) [0, 0, 0, 1, 0, 0, 0, 1, 0, 0]\n",
      "(2, 19) [0, 0, 1, 1, 0, 0, 0, 0, 0, 1]\n",
      "(2, 20) [0, 0, 1, 0, 1, 1, 0, 0, 0, 0]\n",
      "(2, 21) [0, 0, 0, 1, 0, 1, 1, 1, 1, 0]\n",
      "(2, 22) [0, 0, 1, 0, 1, 0, 0, 1, 0, 0]\n",
      "(2, 23) [0, 0, 0, 1, 1, 0, 1, 1, 0, 0]\n",
      "(2, 24) [0, 0, 0, 0, 0, 1, 1, 1, 0, 0]\n",
      "(2, 25) [0, 0, 0, 1, 0, 0, 1, 0, 0, 0]\n",
      "(1, 1) [0, 0, 1, 1, 1, 1, 1, 1, 0, 0]\n",
      "(1, 2) [0, 0, 1, 1, 0, 1, 1, 1, 0, 1]\n",
      "(1, 3) [0, 1, 0, 0, 0, 1, 0, 0, 1, 0]\n",
      "(1, 4) [0, 1, 1, 1, 1, 1, 1, 0, 1, 1]\n",
      "(1, 5) [0, 0, 1, 1, 1, 0, 1, 0, 1, 1]\n",
      "(1, 6) [0, 1, 0, 1, 1, 1, 0, 1, 1, 0]\n",
      "(1, 7) [0, 1, 0, 0, 0, 1, 1, 0, 1, 1]\n",
      "(1, 8) [0, 0, 0, 1, 1, 1, 1, 0, 0, 0]\n",
      "(1, 9) [0, 0, 0, 1, 1, 1, 0, 0, 0, 0]\n",
      "(1, 10) [0, 0, 1, 0, 0, 1, 1, 1, 1, 1]\n",
      "(1, 11) [0, 1, 0, 1, 1, 0, 1, 0, 1, 1]\n",
      "(1, 12) [0, 0, 1, 0, 1, 1, 1, 1, 1, 1]\n",
      "(1, 13) [0, 0, 1, 1, 1, 1, 1, 1, 1]\n",
      "(1, 14) [0, 1, 1, 1, 1, 1, 1, 0, 0, 1]\n",
      "(1, 15) [0, 0, 0, 0, 1, 0, 1, 0, 1, 0]\n",
      "(1, 16) [0, 1, 1, 0, 1, 1, 1, 0, 0, 0]\n",
      "(1, 17) [0, 0, 1, 1, 1, 1, 1, 0, 0, 1]\n",
      "(1, 18) [0, 0, 1, 0, 1, 1, 1, 0, 1, 1]\n",
      "(1, 19) [0, 1, 1, 0, 1, 1, 0, 0, 1, 0]\n",
      "(1, 20) [0, 0, 1, 1, 1, 0, 0, 0, 1, 1]\n",
      "(1, 21) [0, 1, 0, 1, 1, 0, 0, 0, 1, 1]\n",
      "(1, 22) [0, 0, 0, 1, 0, 0, 1, 0, 0, 1]\n",
      "(1, 23) [0, 1, 1, 1, 1, 1, 1, 0, 0, 1]\n",
      "(1, 24) [0, 0, 0, 0, 1, 1, 1, 0, 0, 0]\n",
      "(1, 25) [0, 0, 1, 1, 1, 1, 1, 0, 1, 1]\n"
     ]
    }
   ],
   "source": [
    "for key, value in sickness_progression.items():\n",
    "    print(key, value)"
   ]
  },
  {
   "cell_type": "code",
   "execution_count": 95,
   "metadata": {},
   "outputs": [],
   "source": [
    "def check_class_distribution(distribution, percentage_threshold=0.1):\n",
    "\n",
    "    smallest_class = min(distribution)\n",
    "\n",
    "    # Calculate the expected minimum and maximum class count\n",
    "    max_class_count = (1 + percentage_threshold) * smallest_class\n",
    "\n",
    "    # Check if the distribution is within the specified percentage\n",
    "    within_threshold = all(count <= max_class_count for count in distribution)\n",
    "\n",
    "    return within_threshold"
   ]
  },
  {
   "cell_type": "code",
   "execution_count": 96,
   "metadata": {},
   "outputs": [],
   "source": [
    "def count_values(dictionary, keys):\n",
    "    value_counter = {}\n",
    "\n",
    "    for key in keys:\n",
    "        values = dictionary.get(key, [])\n",
    "        for value in values:\n",
    "            if value in value_counter:\n",
    "                value_counter[value] += 1\n",
    "            else:\n",
    "                value_counter[value] = 1\n",
    "\n",
    "    return value_counter"
   ]
  },
  {
   "cell_type": "code",
   "execution_count": 97,
   "metadata": {},
   "outputs": [],
   "source": [
    "def count_zeros_ones(binary_list):\n",
    "    zeros = binary_list.count(0)\n",
    "    ones = len(binary_list) - zeros\n",
    "    return zeros, ones\n",
    "\n",
    "def split_keys_by_ratio_old(dictionary, ratios):\n",
    "    #sorted_keys = sorted(dictionary.keys(), key=lambda k: abs(count_zeros_ones(dictionary[k])[0] - count_zeros_ones(dictionary[k])[1]))\n",
    "    sorted_keys = list(dictionary.keys())\n",
    "    random.shuffle(sorted_keys)\n",
    "\n",
    "    total_keys = len(sorted_keys)\n",
    "\n",
    "    group_sizes = []\n",
    "    for ratio_index in range(len(ratios)):\n",
    "        if ratio_index == len(ratios) - 1:\n",
    "            group_sizes.append(math.floor((total_keys * ratios[ratio_index])))\n",
    "        else:\n",
    "            group_sizes.append(math.ceil((total_keys * ratios[ratio_index])))\n",
    "\n",
    "    #groups = [sorted_keys[i:i+group_size] for i, group_size in enumerate(group_sizes)]\n",
    "    groups = []\n",
    "    start_idx = 0\n",
    "    for group_size in group_sizes:\n",
    "        groups.append(sorted_keys[start_idx: start_idx + group_size])\n",
    "        start_idx = group_size\n",
    "\n",
    "    \n",
    "    return groups\n"
   ]
  },
  {
   "cell_type": "code",
   "execution_count": 98,
   "metadata": {},
   "outputs": [],
   "source": [
    "def split_keys_by_ratio(dictionary, ratios):\n",
    "    #sorted_keys = sorted(dictionary.keys(), key=lambda k: abs(count_zeros_ones(dictionary[k])[0] - count_zeros_ones(dictionary[k])[1]))\n",
    "    sorted_keys = list(dictionary.keys())\n",
    "\n",
    "    random.shuffle(sorted_keys)\n",
    "\n",
    "    total_length = len(sorted_keys)\n",
    "    # Calculate the starting and ending indices for each segment\n",
    "    start_idx_1 = 0\n",
    "    end_idx_1 = int(total_length * ratios[0])\n",
    "\n",
    "    start_idx_2 = end_idx_1\n",
    "    end_idx_2 = start_idx_2 + int(total_length * ratios[1])\n",
    "\n",
    "    start_idx_3 = end_idx_2\n",
    "    end_idx_3 = total_length\n",
    "\n",
    "    # Split the list into three segments\n",
    "    part_1 = sorted_keys[start_idx_1:end_idx_1]\n",
    "    part_2 = sorted_keys[start_idx_2:end_idx_2]\n",
    "    part_3 = sorted_keys[start_idx_3:end_idx_3]\n",
    "    \n",
    "    return [part_1, part_2, part_3]"
   ]
  },
  {
   "cell_type": "code",
   "execution_count": 99,
   "metadata": {},
   "outputs": [
    {
     "name": "stdout",
     "output_type": "stream",
     "text": [
      "Group 1: 35 - Zeros: 194, Ones: 156\n",
      "Group 2: 7 - Zeros: 38, Ones: 31\n",
      "Group 3: 8 - Zeros: 44, Ones: 36\n",
      "final perc: 0.25999999999999995\n"
     ]
    }
   ],
   "source": [
    "balanced = False\n",
    "iter = 0\n",
    "perc = 0.02\n",
    "ratios = [0.70, 0.15, 0.15]\n",
    "while not balanced:\n",
    "    groups = split_keys_by_ratio(sickness_progression, ratios)\n",
    "\n",
    "    temp_balance = True\n",
    "    for idx in range(len(ratios)):\n",
    "        class_ratio = count_values(sickness_progression, groups[idx])\n",
    "        class_ratio_list = list(class_ratio.values())\n",
    "        if check_class_distribution(class_ratio_list, percentage_threshold=perc) is False:\n",
    "            temp_balance = False\n",
    "\n",
    "    iter +=1\n",
    "    if temp_balance:\n",
    "          balanced = True\n",
    "    if iter == 200:\n",
    "        perc += 0.02\n",
    "        iter = 0\n",
    "\n",
    "for i, group in enumerate(groups):\n",
    "        zeros = sum(count_zeros_ones(sickness_progression[key])[0] for key in group)\n",
    "        ones = sum(count_zeros_ones(sickness_progression[key])[1] for key in group)\n",
    "        print(f\"Group {i+1}: {len(group)} - Zeros: {zeros}, Ones: {ones}\") # {group}\n",
    "print(f'final perc: {perc}')\n",
    "    "
   ]
  },
  {
   "cell_type": "code",
   "execution_count": 100,
   "metadata": {},
   "outputs": [],
   "source": [
    "# Convert floats to integers\n",
    "for group in groups:\n",
    "    for i, (farm_id, plant_id) in enumerate(group):\n",
    "        group[i] = (int(farm_id), int(plant_id))"
   ]
  },
  {
   "cell_type": "code",
   "execution_count": 101,
   "metadata": {},
   "outputs": [
    {
     "name": "stdout",
     "output_type": "stream",
     "text": [
      "[]\n",
      "set()\n"
     ]
    }
   ],
   "source": [
    "filtered_lists = [[y for x, y in sublist if x == 0] for sublist in groups]\n",
    "test = list(itertools.chain.from_iterable(filtered_lists))\n",
    "print(test)\n",
    "print(set(test))\n"
   ]
  },
  {
   "cell_type": "code",
   "execution_count": 102,
   "metadata": {},
   "outputs": [
    {
     "name": "stdout",
     "output_type": "stream",
     "text": [
      "{0: 194, 1: 156}\n",
      "{0: 38, 1: 31}\n",
      "{0: 44, 1: 36}\n"
     ]
    }
   ],
   "source": [
    "\n",
    "result = count_values(sickness_progression, groups[0])\n",
    "print(result)\n",
    "result = count_values(sickness_progression, groups[1])\n",
    "print(result)\n",
    "result = count_values(sickness_progression, groups[2])\n",
    "print(result)\n"
   ]
  },
  {
   "cell_type": "code",
   "execution_count": 103,
   "metadata": {},
   "outputs": [
    {
     "data": {
      "text/plain": [
       "[(2, 21), (1, 24), (2, 22), (2, 11), (1, 13), (2, 20), (1, 1)]"
      ]
     },
     "execution_count": 103,
     "metadata": {},
     "output_type": "execute_result"
    }
   ],
   "source": [
    "groups[1]"
   ]
  },
  {
   "cell_type": "code",
   "execution_count": 104,
   "metadata": {},
   "outputs": [
    {
     "data": {
      "text/plain": [
       "[(1, 10), (1, 15), (2, 10), (1, 9), (1, 14), (2, 18), (1, 2), (1, 12)]"
      ]
     },
     "execution_count": 104,
     "metadata": {},
     "output_type": "execute_result"
    }
   ],
   "source": [
    "groups[2]"
   ]
  },
  {
   "cell_type": "code",
   "execution_count": 105,
   "metadata": {},
   "outputs": [
    {
     "name": "stdout",
     "output_type": "stream",
     "text": [
      "50\n"
     ]
    }
   ],
   "source": [
    "print(len(sickness_progression.keys()))"
   ]
  },
  {
   "cell_type": "code",
   "execution_count": null,
   "metadata": {},
   "outputs": [],
   "source": [
    "import json\n",
    "\n",
    "# Save the data to a JSON file\n",
    "with open('graph_masking_carrot.json', 'w') as json_file:\n",
    "    json.dump(groups, json_file)"
   ]
  },
  {
   "cell_type": "code",
   "execution_count": null,
   "metadata": {},
   "outputs": [],
   "source": [
    "import json\n",
    "\n",
    "with open('graph_masking_carrot.json', 'r') as json_file:\n",
    "    loaded_data = json.load(json_file)"
   ]
  }
 ],
 "metadata": {
  "kernelspec": {
   "display_name": "Python 3",
   "language": "python",
   "name": "python3"
  },
  "language_info": {
   "codemirror_mode": {
    "name": "ipython",
    "version": 3
   },
   "file_extension": ".py",
   "mimetype": "text/x-python",
   "name": "python",
   "nbconvert_exporter": "python",
   "pygments_lexer": "ipython3",
   "version": "3.11.0"
  }
 },
 "nbformat": 4,
 "nbformat_minor": 2
}
