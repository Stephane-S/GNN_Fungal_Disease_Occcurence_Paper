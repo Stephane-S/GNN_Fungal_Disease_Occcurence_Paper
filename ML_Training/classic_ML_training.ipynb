{
 "cells": [
  {
   "cell_type": "code",
   "execution_count": null,
   "metadata": {},
   "outputs": [],
   "source": [
    "import pandas as pd\n",
    "import numpy as np\n",
    "from tqdm import tqdm\n",
    "\n",
    "from sklearn import preprocessing\n",
    "\n",
    "import seaborn as sns\n",
    "import matplotlib.pyplot as plt\n",
    "\n",
    "\n",
    "#local\n",
    "from ML_models.DecisionTree import DecisionTreeModel\n",
    "from ML_models.RandomForest import RandomForestModel\n",
    "from ML_models.k_NN import KnnModel\n",
    "from ML_models.NN import NNModel"
   ]
  },
  {
   "cell_type": "code",
   "execution_count": null,
   "metadata": {},
   "outputs": [],
   "source": [
    "import os\n",
    "cwd = os.getcwd()\n",
    "print(cwd)"
   ]
  },
  {
   "cell_type": "code",
   "execution_count": null,
   "metadata": {},
   "outputs": [],
   "source": [
    "def parse_datasets(crops_list):\n",
    "    # explore the directory containing the datasets vars and populate a result dataframe\n",
    "\n",
    "    datasets = []\n",
    "\n",
    "    for crop in crops_list:\n",
    "        directory = f'data/{crop}/datasets_vars/'\n",
    "    \n",
    "        # iterate over files in that directory\n",
    "        for filename in os.listdir(directory):\n",
    "            file_path = os.path.join(directory, filename)\n",
    "            # checking if it is a file\n",
    "            if os.path.isfile(file_path):\n",
    "                file_name = os.path.splitext(os.path.basename(file_path))[0]\n",
    "                datasets.append(f'{crop}_{file_name}')\n",
    "\n",
    "    return datasets"
   ]
  },
  {
   "cell_type": "code",
   "execution_count": null,
   "metadata": {},
   "outputs": [],
   "source": [
    "def create_result_df(col_names, row_names):\n",
    "    # Create an empty DataFrame with specified row and column names\n",
    "    df = pd.DataFrame(columns=col_names, index=row_names)\n",
    "\n",
    "    return (df)"
   ]
  },
  {
   "cell_type": "code",
   "execution_count": null,
   "metadata": {},
   "outputs": [],
   "source": [
    "def import_df(obs_data_path, meteo_data_path):\n",
    "    obs_df = pd.read_csv(obs_data_path, index_col=0)\n",
    "    meteo_df = pd.read_csv(meteo_data_path, index_col=0)\n",
    "\n",
    "    return obs_df, meteo_df"
   ]
  },
  {
   "cell_type": "code",
   "execution_count": null,
   "metadata": {},
   "outputs": [],
   "source": [
    "def get_vars(directory_path, filename):\n",
    "    vars = []\n",
    "    file_path = os.path.join(directory_path, filename)\n",
    "    # checking if it is a file\n",
    "    if os.path.isfile(file_path):\n",
    "        with open(file_path, 'r') as f:\n",
    "            for line in f:\n",
    "                if line.strip(): # remove empty lines\n",
    "                    if not line.startswith('->'): # remove df code\n",
    "                        vars.append(line.strip())\n",
    "    \n",
    "    return vars"
   ]
  },
  {
   "cell_type": "code",
   "execution_count": null,
   "metadata": {},
   "outputs": [],
   "source": [
    "def extract_sub_df(combined_df, vars):\n",
    "    return combined_df.loc[:, vars]"
   ]
  },
  {
   "cell_type": "code",
   "execution_count": null,
   "metadata": {},
   "outputs": [],
   "source": [
    "def normalize(sub_df):\n",
    "    min_max_scaler = preprocessing.MinMaxScaler()\n",
    "    sub_df_scaled = min_max_scaler.fit_transform(sub_df)\n",
    "\n",
    "    return(pd.DataFrame(sub_df_scaled, index=sub_df.index, columns=sub_df.columns))"
   ]
  },
  {
   "cell_type": "code",
   "execution_count": null,
   "metadata": {},
   "outputs": [],
   "source": [
    "def preprocess_data(crop, obs_df, meteo_df):\n",
    "    \n",
    "\n",
    "    obs_df.rename(columns={'SampleDate':'Date'}, inplace=True)\n",
    "\n",
    "    if crop == 'onion':\n",
    "        obs_df.loc[obs_df['cote_b_squamosa'] >= 1, 'cote_b_squamosa'] = 1\n",
    "        unique_sample_date = obs_df['Date'].unique()\n",
    "        unique_sample_date = meteo_df[meteo_df['Date'].isin(unique_sample_date)]\n",
    "\n",
    "        combined_df = obs_df.merge(meteo_df, on=['FarmID', 'Date'])\n",
    "        label_df = combined_df.get('cote_b_squamosa')\n",
    "        combined_df = combined_df.drop(['FarmID', 'Plant_ID', 'Date', 'cote_b_squamosa', 'cote_p_destructor', 'cote_s_vesicarium', 'Bulb_onions_date'], axis=1)\n",
    "\n",
    "    elif crop == 'laitue':\n",
    "        obs_df.loc[obs_df['cote_b_lactucae'] >= 1, 'cote_b_lactucae'] = 1\n",
    "        unique_sample_date = obs_df['Date'].unique()\n",
    "        unique_sample_date = meteo_df[meteo_df['Date'].isin(unique_sample_date)]\n",
    "\n",
    "        combined_df = obs_df.merge(meteo_df, on=['FarmID', 'Date'])\n",
    "        label_df = combined_df.get('cote_b_lactucae')\n",
    "        combined_df = combined_df.drop(['FarmID', 'Plant_ID', 'Date', 'cote_b_lactucae', 'incidence_sclerotinia', 'incidence_b_cinerea', 'Pommaison_lettuce_date'], axis=1)\n",
    "\n",
    "\n",
    "    elif crop == 'carrot':\n",
    "        obs_df = obs_df.drop(obs_df[obs_df['FarmID'] == 0].index)\n",
    "        obs_df.loc[obs_df['cote_c_carotae'] >= 1, 'cote_c_carotae'] = 1\n",
    "        unique_sample_date = obs_df['Date'].unique()\n",
    "        unique_sample_date = meteo_df[meteo_df['Date'].isin(unique_sample_date)]\n",
    "\n",
    "        combined_df = obs_df.merge(meteo_df, on=['FarmID', 'Date'])\n",
    "        label_df = combined_df.get('cote_c_carotae')\n",
    "        combined_df = combined_df.drop(['FarmID', 'Plant_ID', 'Date', 'cote_c_carotae', 'incidence_s_sclerotiorum', 'incidence_a_dauci'], axis=1)\n",
    "\n",
    "\n",
    "    else:\n",
    "        raise Exception(f'Crop <{crop}> should be \"onion\", \"laitue\", or \"carrot\".')\n",
    "    \n",
    "    return combined_df, label_df"
   ]
  },
  {
   "cell_type": "code",
   "execution_count": null,
   "metadata": {},
   "outputs": [],
   "source": [
    "def main():\n",
    "    #crops_list = ['onion', 'laitue', 'carrot']\n",
    "    crops_list = ['onion']\n",
    "    models_to_run = ['Decision tree', 'Random Forest', 'K-nn', 'Neural Network']\n",
    "    datasets_to_run = ['base', 'Botcast']\n",
    "    restart = None\n",
    "\n",
    "    datasets = parse_datasets(crops_list)\n",
    "\n",
    "    # find previous or create new result dataframe\n",
    "    if restart is not None:\n",
    "        result_df = pd.read_csv(restart, header=0, index_col=0)\n",
    "    \n",
    "    else:\n",
    "        result_df = create_result_df(models_to_run, datasets)\n",
    "\n",
    "\n",
    "    for crop in crops_list:\n",
    "        obs_data_path = f'data/{crop}/crop_no_sensitive_data.csv'\n",
    "        meteo_data_path = f'data/{crop}/combined_daily_meteo.csv'\n",
    "        directory_path = f'data/{crop}/datasets_vars/'\n",
    "        obs_df, meteo_df = import_df(obs_data_path, meteo_data_path)\n",
    "\n",
    "        combined_df, label_df = preprocess_data(crop, obs_df, meteo_df)\n",
    "\n",
    "        for filename in (os.listdir(directory_path)):\n",
    "            row_name = f'{crop}_{os.path.splitext(os.path.basename(filename))[0]}'\n",
    "\n",
    "            vars = get_vars(directory_path, filename)\n",
    "\n",
    "            sub_df = extract_sub_df(combined_df, vars)\n",
    "\n",
    "            sub_df_norm = normalize(sub_df)\n",
    "            \n",
    "            if row_name in [f'{crop}_base', f'{crop}_Botcast']:\n",
    "\n",
    "                #Decision tree classifier\n",
    "                if result_df.isnull().loc[row_name, 'Decision tree']:\n",
    "                    mean_acc, std_acc, mean_roc_auc, std_roc_auc, mean_f1, std_f1 = DecisionTreeModel(sub_df_norm, label_df)\n",
    "                    result_df.loc[row_name, 'Decision tree'] = f'acc: {mean_acc:.2f} (\\u00B1 {std_acc:.2f}) roc_auc: {mean_roc_auc:.2f} (\\u00B1 {std_roc_auc:.2f}) f1: {mean_f1:.2f} (\\u00B1 {std_f1:.2f})'\n",
    "                    \n",
    "                #Random Forest classifier\n",
    "                if result_df.isnull().loc[row_name, 'Random Forest']:\n",
    "                    mean_acc, std_acc, mean_roc_auc, std_roc_auc, mean_f1, std_f1 = RandomForestModel(sub_df_norm, label_df)\n",
    "                    result_df.loc[row_name, 'Random Forest'] = f'acc: {mean_acc:.2f} (\\u00B1 {std_acc:.2f}) roc_auc: {mean_roc_auc:.2f} (\\u00B1 {std_roc_auc:.2f}) f1: {mean_f1:.2f} (\\u00B1 {std_f1:.2f})'\n",
    "\n",
    "                #Knn classifier\n",
    "                if result_df.isnull().loc[row_name, 'K-nn']:\n",
    "                    mean_acc, std_acc, mean_roc_auc, std_roc_auc, mean_f1, std_f1 = KnnModel(sub_df_norm, label_df)\n",
    "                    result_df.loc[row_name, 'K-nn'] = f'acc: {mean_acc:.2f} (\\u00B1 {std_acc:.2f}) roc_auc: {mean_roc_auc:.2f} (\\u00B1 {std_roc_auc:.2f}) f1: {mean_f1:.2f} (\\u00B1 {std_f1:.2f})'\n",
    "                \n",
    "                if result_df.isnull().loc[row_name, 'Neural Network']:\n",
    "                    mean_acc, std_acc, mean_roc_auc, std_roc_auc, mean_f1, std_f1 = NNModel(sub_df_norm, label_df)\n",
    "                    result_df.loc[row_name, 'Neural Network'] = f'acc: {mean_acc:.2f} (\\u00B1 {std_acc:.2f}) roc_auc: {mean_roc_auc:.2f} (\\u00B1 {std_roc_auc:.2f}) f1: {mean_f1:.2f} (\\u00B1 {std_f1:.2f})'\n",
    "                    \n",
    "                result_df.to_csv('test_result_verification.csv')\n",
    "                "
   ]
  },
  {
   "cell_type": "code",
   "execution_count": null,
   "metadata": {},
   "outputs": [],
   "source": [
    "main()"
   ]
  }
 ],
 "metadata": {
  "kernelspec": {
   "display_name": "Python 3",
   "language": "python",
   "name": "python3"
  },
  "language_info": {
   "codemirror_mode": {
    "name": "ipython",
    "version": 3
   },
   "file_extension": ".py",
   "mimetype": "text/x-python",
   "name": "python",
   "nbconvert_exporter": "python",
   "pygments_lexer": "ipython3",
   "version": "3.11.0"
  },
  "orig_nbformat": 4
 },
 "nbformat": 4,
 "nbformat_minor": 2
}
